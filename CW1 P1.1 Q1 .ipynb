{
 "cells": [
  {
   "cell_type": "code",
   "execution_count": 124,
   "metadata": {},
   "outputs": [],
   "source": [
    "import numpy as np \n",
    "import matplotlib.pyplot as plt "
   ]
  },
  {
   "cell_type": "code",
   "execution_count": 136,
   "metadata": {},
   "outputs": [],
   "source": [
    "x = [1,2,3,4]\n",
    "y = [3,2,0,5]"
   ]
  },
  {
   "cell_type": "code",
   "execution_count": 137,
   "metadata": {},
   "outputs": [
    {
     "data": {
      "text/plain": [
       "(0.0, 5.0, 0.0, 8.0)"
      ]
     },
     "execution_count": 137,
     "metadata": {},
     "output_type": "execute_result"
    },
    {
     "data": {
      "image/png": "[encoded data removed]",
      "text/plain": [
       "<Figure size 432x288 with 1 Axes>"
      ]
     },
     "metadata": {
      "needs_background": "light"
     },
     "output_type": "display_data"
    }
   ],
   "source": [
    "plt.scatter(x,y)\n",
    "plt.axis([0,5,0,8])"
   ]
  },
  {
   "cell_type": "code",
   "execution_count": 138,
   "metadata": {},
   "outputs": [],
   "source": [
    "#For linear case\n",
    "#Variable names used for linear, A1, A2, A, C, yhat\n",
    "A1 = np.zeros((4,1))\n",
    "A2 = np.zeros((4,1))\n",
    "A1 = np.array(x).reshape((4,1))\n",
    "A2.fill(1)\n",
    "A = np.concatenate((A1,A2), axis=1)"
   ]
  },
  {
   "cell_type": "code",
   "execution_count": 139,
   "metadata": {},
   "outputs": [],
   "source": [
    "#Making sure inputs, outputs and model parameters are of correct shape \n",
    "Y = np.array(y).reshape((4,1))\n",
    "X = np.array(x).reshape((4,1))\n",
    "C = np.zeros((2,1))"
   ]
  },
  {
   "cell_type": "code",
   "execution_count": 140,
   "metadata": {},
   "outputs": [],
   "source": [
    "#Parameters for linear case, k=2\n",
    "C = np.linalg.inv(A.T@A)@(A.T@Y)\n"
   ]
  },
  {
   "cell_type": "code",
   "execution_count": 141,
   "metadata": {},
   "outputs": [
    {
     "name": "stdout",
     "output_type": "stream",
     "text": [
      "1.4999999999999982 0.39999999999999947\n"
     ]
    }
   ],
   "source": [
    "#Indexing to separate model parameters \n",
    "m = C[0][0]\n",
    "b = C[1][0]\n",
    "\n",
    "print(b,m)"
   ]
  },
  {
   "cell_type": "code",
   "execution_count": 142,
   "metadata": {},
   "outputs": [],
   "source": [
    "#Shaping predictions\n",
    "yhat = np.zeros((4,1))\n",
    "x = np.array(x).reshape((4,1))"
   ]
  },
  {
   "cell_type": "code",
   "execution_count": 143,
   "metadata": {},
   "outputs": [],
   "source": [
    "#Running predictions for linear case\n",
    "yhat = (m * x) + b"
   ]
  },
  {
   "cell_type": "code",
   "execution_count": 160,
   "metadata": {},
   "outputs": [
    {
     "data": {
      "text/plain": [
       "array([[ 1.,  1.,  1.],\n",
       "       [ 4.,  2.,  1.],\n",
       "       [ 9.,  3.,  1.],\n",
       "       [16.,  4.,  1.]])"
      ]
     },
     "execution_count": 160,
     "metadata": {},
     "output_type": "execute_result"
    }
   ],
   "source": [
    "#Variable names for quadratic. B1,B2,B3, B, D, yhatquad\n",
    "B1 = X**2\n",
    "B2 = X\n",
    "B3 = np.zeros((4,1))\n",
    "B3.fill(1)\n",
    "B = np.concatenate((B1,B2,B3), axis = 1)"
   ]
  },
  {
   "cell_type": "code",
   "execution_count": 159,
   "metadata": {},
   "outputs": [
    {
     "data": {
      "text/plain": [
       "array([[ 1.5],\n",
       "       [-7.1],\n",
       "       [ 9. ]])"
      ]
     },
     "execution_count": 159,
     "metadata": {},
     "output_type": "execute_result"
    }
   ],
   "source": [
    "D = np.zeros((3,1))\n",
    "D = np.linalg.inv(B.T@B)@(B.T@Y)\n",
    "aquad = D[0][0] #Ax^2\n",
    "bquad = D[1][0] #Bx\n",
    "cquad = D[2][0] #C\n",
    "yhatquad = aquad*(X**2) + bquad*X + cquad\n",
    "D"
   ]
  },
  {
   "cell_type": "code",
   "execution_count": 150,
   "metadata": {},
   "outputs": [],
   "source": [
    "#Variable names for polynomial, E1,E2,E3,E4,E,F, yhatpoly \n",
    "E1 = X**3\n",
    "E2 = X**2\n",
    "E3 = X\n",
    "E4 = np.zeros((4,1))\n",
    "E4.fill(1)\n",
    "\n",
    "E = np.concatenate((E1,E2,E3,E4), axis = 1)"
   ]
  },
  {
   "cell_type": "code",
   "execution_count": 158,
   "metadata": {},
   "outputs": [
    {
     "data": {
      "text/plain": [
       "array([[ 1.33333333],\n",
       "       [-8.5       ],\n",
       "       [15.16666667],\n",
       "       [-5.        ]])"
      ]
     },
     "execution_count": 158,
     "metadata": {},
     "output_type": "execute_result"
    }
   ],
   "source": [
    "F = np.zeros((4,1))\n",
    "F = np.linalg.inv(E.T@E)@(E.T@Y)\n",
    "apoly = F[0][0] \n",
    "bpoly = F[1][0] \n",
    "cpoly = F[2][0] \n",
    "dpoly = F[3][0] \n",
    "\n",
    "F\n",
    "\n",
    "y =0.4X + 1.5\n",
    "y = 1.5X**2 - 7.1X + 9 \n",
    "y = 1.3X**3 - 8.5X**2 + 15.2X -5  "
   ]
  },
  {
   "cell_type": "code",
   "execution_count": 152,
   "metadata": {},
   "outputs": [],
   "source": [
    "yhatpoly = apoly*(X**3) + bpoly*(X**2) + cpoly*X + dpoly"
   ]
  },
  {
   "cell_type": "code",
   "execution_count": 153,
   "metadata": {},
   "outputs": [],
   "source": [
    "#Mean squared error function\n",
    "def MSEnp(y,yhat,n):\n",
    "    sqrdiff = (y - yhat)**2\n",
    "    SSE = np.sum(sqrdiff)\n",
    "    meanSE = SSE/n\n",
    "    return meanSE"
   ]
  },
  {
   "cell_type": "code",
   "execution_count": 154,
   "metadata": {},
   "outputs": [
    {
     "data": {
      "text/plain": [
       "(3.0500000000000003, 0.8, 1.936735563851727e-23)"
      ]
     },
     "execution_count": 154,
     "metadata": {},
     "output_type": "execute_result"
    }
   ],
   "source": [
    "MSElinear = MSEnp(Y, yhat, 4)\n",
    "MSEquad = MSEnp(Y, yhatquad, 4)\n",
    "MSEpoly = MSEnp(Y, yhatpoly, 4)\n",
    "MSElinear, MSEquad, MSEpoly"
   ]
  },
  {
   "cell_type": "code",
   "execution_count": 155,
   "metadata": {},
   "outputs": [],
   "source": [
    "#Now plug in for all values of X from 0-5\n",
    "Xcoords = np.arange(0,5,0.1) \n",
    "\n",
    "yhat  = m * Xcoords + b\n",
    "yhatquad = aquad*(Xcoords**2) + bquad*Xcoords + cquad\n",
    "yhatpoly = apoly*(Xcoords**3) + bpoly*(Xcoords**2) + cpoly*Xcoords + dpoly "
   ]
  },
  {
   "cell_type": "code",
   "execution_count": 157,
   "metadata": {},
   "outputs": [
    {
     "data": {
      "text/plain": [
       "Text(0, 0.5, 'Y')"
      ]
     },
     "execution_count": 157,
     "metadata": {},
     "output_type": "execute_result"
    },
    {
     "data": {
      "image/png": "[encoded data removed]",
      "text/plain": [
       "<Figure size 432x288 with 1 Axes>"
      ]
     },
     "metadata": {
      "needs_background": "light"
     },
     "output_type": "display_data"
    }
   ],
   "source": [
    "plt.plot(x,y,'ro',Xcoords,yhat, Xcoords, yhatquad, 'g-', Xcoords, yhatpoly,'y-')\n",
    "plt.xlabel('X')\n",
    "plt.ylabel('Y')"
   ]
  },
  {
   "cell_type": "code",
   "execution_count": null,
   "metadata": {},
   "outputs": [],
   "source": []
  }
 ],
 "metadata": {
  "kernelspec": {
   "display_name": "Python 3",
   "language": "python",
   "name": "python3"
  },
  "language_info": {
   "codemirror_mode": {
    "name": "ipython",
    "version": 3
   },
   "file_extension": ".py",
   "mimetype": "text/x-python",
   "name": "python",
   "nbconvert_exporter": "python",
   "pygments_lexer": "ipython3",
   "version": "3.8.3"
  }
 },
 "nbformat": 4,
 "nbformat_minor": 4
}
