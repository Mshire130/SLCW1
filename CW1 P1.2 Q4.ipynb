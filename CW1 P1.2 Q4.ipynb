{
 "cells": [
  {
   "cell_type": "code",
   "execution_count": 27,
   "metadata": {},
   "outputs": [],
   "source": [
    "import numpy as np\n",
    "import matplotlib.pyplot as plt \n",
    "import pandas as pd\n",
    "from sklearn.model_selection import train_test_split"
   ]
  },
  {
   "cell_type": "code",
   "execution_count": 24,
   "metadata": {},
   "outputs": [
    {
     "data": {
      "text/html": [
       "<div>\n",
       "<style scoped>\n",
       "    .dataframe tbody tr th:only-of-type {\n",
       "        vertical-align: middle;\n",
       "    }\n",
       "\n",
       "    .dataframe tbody tr th {\n",
       "        vertical-align: top;\n",
       "    }\n",
       "\n",
       "    .dataframe thead th {\n",
       "        text-align: right;\n",
       "    }\n",
       "</style>\n",
       "<table border=\"1\" class=\"dataframe\">\n",
       "  <thead>\n",
       "    <tr style=\"text-align: right;\">\n",
       "      <th></th>\n",
       "      <th>CRIM</th>\n",
       "      <th>ZN</th>\n",
       "      <th>INDUS</th>\n",
       "      <th>CHAS</th>\n",
       "      <th>NOX</th>\n",
       "      <th>RM</th>\n",
       "      <th>AGE</th>\n",
       "      <th>DIS</th>\n",
       "      <th>RAD</th>\n",
       "      <th>TAX</th>\n",
       "      <th>PTRATIO</th>\n",
       "      <th>LSTAT</th>\n",
       "      <th>MEDV</th>\n",
       "    </tr>\n",
       "  </thead>\n",
       "  <tbody>\n",
       "    <tr>\n",
       "      <th>0</th>\n",
       "      <td>0.00632</td>\n",
       "      <td>18.0</td>\n",
       "      <td>2.31</td>\n",
       "      <td>0</td>\n",
       "      <td>0.538</td>\n",
       "      <td>6.575</td>\n",
       "      <td>65.2</td>\n",
       "      <td>4.0900</td>\n",
       "      <td>1</td>\n",
       "      <td>296</td>\n",
       "      <td>15.3</td>\n",
       "      <td>4.98</td>\n",
       "      <td>24.0</td>\n",
       "    </tr>\n",
       "    <tr>\n",
       "      <th>1</th>\n",
       "      <td>0.02731</td>\n",
       "      <td>0.0</td>\n",
       "      <td>7.07</td>\n",
       "      <td>0</td>\n",
       "      <td>0.469</td>\n",
       "      <td>6.421</td>\n",
       "      <td>78.9</td>\n",
       "      <td>4.9671</td>\n",
       "      <td>2</td>\n",
       "      <td>242</td>\n",
       "      <td>17.8</td>\n",
       "      <td>9.14</td>\n",
       "      <td>21.6</td>\n",
       "    </tr>\n",
       "    <tr>\n",
       "      <th>2</th>\n",
       "      <td>0.02729</td>\n",
       "      <td>0.0</td>\n",
       "      <td>7.07</td>\n",
       "      <td>0</td>\n",
       "      <td>0.469</td>\n",
       "      <td>7.185</td>\n",
       "      <td>61.1</td>\n",
       "      <td>4.9671</td>\n",
       "      <td>2</td>\n",
       "      <td>242</td>\n",
       "      <td>17.8</td>\n",
       "      <td>4.03</td>\n",
       "      <td>34.7</td>\n",
       "    </tr>\n",
       "    <tr>\n",
       "      <th>3</th>\n",
       "      <td>0.03237</td>\n",
       "      <td>0.0</td>\n",
       "      <td>2.18</td>\n",
       "      <td>0</td>\n",
       "      <td>0.458</td>\n",
       "      <td>6.998</td>\n",
       "      <td>45.8</td>\n",
       "      <td>6.0622</td>\n",
       "      <td>3</td>\n",
       "      <td>222</td>\n",
       "      <td>18.7</td>\n",
       "      <td>2.94</td>\n",
       "      <td>33.4</td>\n",
       "    </tr>\n",
       "    <tr>\n",
       "      <th>4</th>\n",
       "      <td>0.06905</td>\n",
       "      <td>0.0</td>\n",
       "      <td>2.18</td>\n",
       "      <td>0</td>\n",
       "      <td>0.458</td>\n",
       "      <td>7.147</td>\n",
       "      <td>54.2</td>\n",
       "      <td>6.0622</td>\n",
       "      <td>3</td>\n",
       "      <td>222</td>\n",
       "      <td>18.7</td>\n",
       "      <td>5.33</td>\n",
       "      <td>36.2</td>\n",
       "    </tr>\n",
       "  </tbody>\n",
       "</table>\n",
       "</div>"
      ],
      "text/plain": [
       "      CRIM   ZN   INDUS   CHAS    NOX     RM   AGE     DIS  RAD  TAX  PTRATIO  \\\n",
       "0  0.00632  18.0    2.31     0  0.538  6.575  65.2  4.0900    1  296     15.3   \n",
       "1  0.02731   0.0    7.07     0  0.469  6.421  78.9  4.9671    2  242     17.8   \n",
       "2  0.02729   0.0    7.07     0  0.469  7.185  61.1  4.9671    2  242     17.8   \n",
       "3  0.03237   0.0    2.18     0  0.458  6.998  45.8  6.0622    3  222     18.7   \n",
       "4  0.06905   0.0    2.18     0  0.458  7.147  54.2  6.0622    3  222     18.7   \n",
       "\n",
       "   LSTAT  MEDV  \n",
       "0   4.98  24.0  \n",
       "1   9.14  21.6  \n",
       "2   4.03  34.7  \n",
       "3   2.94  33.4  \n",
       "4   5.33  36.2  "
      ]
     },
     "execution_count": 24,
     "metadata": {},
     "output_type": "execute_result"
    }
   ],
   "source": [
    "#Loading data\n",
    "url = \"http://www0.cs.ucl.ac.uk/staff/M.Herbster/boston-filter/Boston-filtered.csv\"\n",
    "data = pd.read_csv(url)\n",
    "data.head()"
   ]
  },
  {
   "cell_type": "code",
   "execution_count": 25,
   "metadata": {},
   "outputs": [],
   "source": [
    "data = data.to_numpy()"
   ]
  },
  {
   "cell_type": "code",
   "execution_count": 28,
   "metadata": {},
   "outputs": [],
   "source": [
    "#Splitting data into X and Y\n",
    "x = data[:,0:12]\n",
    "y = data[:,12].reshape(506,1)\n",
    "\n",
    "#Randomly splitting X and Y into test and train data\n",
    "x_train, x_test, y_train, y_test = train_test_split(x,y, test_size = 0.33, random_state =42)"
   ]
  },
  {
   "cell_type": "code",
   "execution_count": 38,
   "metadata": {},
   "outputs": [
    {
     "data": {
      "text/plain": [
       "array([[22.97079646]])"
      ]
     },
     "execution_count": 38,
     "metadata": {},
     "output_type": "execute_result"
    }
   ],
   "source": [
    "#Question 4a, Naive regression \n",
    "naivextrain = np.ones((339,1))\n",
    "naivextest = np.ones((167,1)) \n",
    "\n",
    "#Running linear regression on naive training data \n",
    "naiveW = np.linalg.inv((naivextrain.T@naivextrain))@(naivextrain.T@y_train)\n",
    "y_train_average = np.average(y_train)\n",
    "\n",
    "#We can see that the the naive approach fits the data with the mean value of the training set, W = mean of train y "
   ]
  },
  {
   "cell_type": "code",
   "execution_count": 45,
   "metadata": {},
   "outputs": [],
   "source": [
    "#Mean squared error function\n",
    "def MSEnp(y,yhat,n):\n",
    "    sqrdiff = (y - yhat)**2\n",
    "    SSE = np.sum(sqrdiff)\n",
    "    meanSE = SSE/n\n",
    "    return meanSE"
   ]
  },
  {
   "cell_type": "code",
   "execution_count": 52,
   "metadata": {},
   "outputs": [
    {
     "name": "stdout",
     "output_type": "stream",
     "text": [
      "88.14436839219985 77.43966001117039\n"
     ]
    }
   ],
   "source": [
    "#Predicting on the training set using naive regression\n",
    "yhat_naive_train = naivextrain @ naiveW\n",
    "\n",
    "#Calculating MSE for training set\n",
    "MSE_naive_train = MSEnp(y_train, yhat_naive_train, 339)\n",
    "\n",
    "#Predicting on the test set using naive regression\n",
    "yhat_naive_test = naivextest @ naiveW\n",
    "\n",
    "#Calculating MSE for test set\n",
    "MSE_naive_test = MSEnp(y_test, yhat_naive_test, 167)\n",
    "\n",
    "print(MSE_naive_train, MSE_naive_test)"
   ]
  },
  {
   "cell_type": "code",
   "execution_count": 87,
   "metadata": {},
   "outputs": [
    {
     "data": {
      "text/plain": [
       "[75.735765615802,\n",
       " 78.25253836842792,\n",
       " 69.82525107739114,\n",
       " 83.3629444189501,\n",
       " 72.71111395027106,\n",
       " 45.82902170074135,\n",
       " 76.70268664711703,\n",
       " 82.79605527542473,\n",
       " 75.2957076918212,\n",
       " 70.31360346223349,\n",
       " 66.96058934959608,\n",
       " 38.71120361270592]"
      ]
     },
     "execution_count": 87,
     "metadata": {},
     "output_type": "execute_result"
    }
   ],
   "source": [
    "#Question 4c\n",
    "#Separating training data into 12 separate attributes each with a ones column, (xi, 1)\n",
    "x_train_1 = np.concatenate((x_train[:,0].reshape(339,1),naivextrain), axis = 1)\n",
    "x_train_2 = np.concatenate((x_train[:,1].reshape(339,1),naivextrain), axis = 1)\n",
    "x_train_3 = np.concatenate((x_train[:,2].reshape(339,1),naivextrain), axis = 1) \n",
    "x_train_4 = np.concatenate((x_train[:,3].reshape(339,1),naivextrain), axis = 1)\n",
    "x_train_5 = np.concatenate((x_train[:,4].reshape(339,1),naivextrain), axis = 1)\n",
    "x_train_6 = np.concatenate((x_train[:,5].reshape(339,1),naivextrain), axis = 1)\n",
    "x_train_7 = np.concatenate((x_train[:,6].reshape(339,1),naivextrain), axis = 1)\n",
    "x_train_8 = np.concatenate((x_train[:,7].reshape(339,1),naivextrain), axis = 1)\n",
    "x_train_9 = np.concatenate((x_train[:,8].reshape(339,1),naivextrain), axis = 1)\n",
    "x_train_10 = np.concatenate((x_train[:,9].reshape(339,1),naivextrain), axis = 1)\n",
    "x_train_11 = np.concatenate((x_train[:,10].reshape(339,1),naivextrain), axis = 1)\n",
    "x_train_12 = np.concatenate((x_train[:,11].reshape(339,1),naivextrain), axis = 1)\n",
    "\n",
    "#Carrying out linear regression for each single attribute, calculating W vector for each attribute\n",
    "x_train_1_w = np.linalg.inv((x_train_1.T@x_train_1))@(x_train_1.T@y_train)\n",
    "x_train_2_w = np.linalg.inv((x_train_2.T@x_train_2))@(x_train_2.T@y_train)\n",
    "x_train_3_w = np.linalg.inv((x_train_3.T@x_train_3))@(x_train_3.T@y_train)\n",
    "x_train_4_w = np.linalg.inv((x_train_4.T@x_train_4))@(x_train_4.T@y_train)\n",
    "x_train_5_w = np.linalg.inv((x_train_5.T@x_train_5))@(x_train_5.T@y_train)\n",
    "x_train_6_w = np.linalg.inv((x_train_6.T@x_train_6))@(x_train_6.T@y_train)\n",
    "x_train_7_w = np.linalg.inv((x_train_7.T@x_train_7))@(x_train_7.T@y_train)\n",
    "x_train_8_w = np.linalg.inv((x_train_8.T@x_train_8))@(x_train_8.T@y_train)\n",
    "x_train_9_w = np.linalg.inv((x_train_9.T@x_train_9))@(x_train_9.T@y_train)\n",
    "x_train_10_w = np.linalg.inv((x_train_10.T@x_train_10))@(x_train_10.T@y_train)\n",
    "x_train_11_w = np.linalg.inv((x_train_11.T@x_train_11))@(x_train_11.T@y_train)\n",
    "x_train_12_w = np.linalg.inv((x_train_12.T@x_train_12))@(x_train_12.T@y_train)\n",
    "\n",
    "#Predicting on training data using the separate attributes and their respective W vectors\n",
    "yhat_1_train = x_train_1 @ x_train_1_w\n",
    "yhat_2_train = x_train_2 @ x_train_2_w\n",
    "yhat_3_train = x_train_3 @ x_train_3_w\n",
    "yhat_4_train = x_train_4 @ x_train_4_w\n",
    "yhat_5_train = x_train_5 @ x_train_5_w\n",
    "yhat_6_train = x_train_6 @ x_train_6_w\n",
    "yhat_7_train = x_train_7 @ x_train_7_w\n",
    "yhat_8_train = x_train_8 @ x_train_8_w\n",
    "yhat_9_train = x_train_9 @ x_train_9_w\n",
    "yhat_10_train = x_train_10 @ x_train_10_w\n",
    "yhat_11_train = x_train_11 @ x_train_11_w\n",
    "yhat_12_train = x_train_12 @ x_train_12_w\n",
    "\n",
    "#Array of MSE on training data for predictions using each attribute\n",
    "MSE_separate_attributes = [MSEnp(y_train,yhat_1_train,339),MSEnp(y_train,yhat_2_train,339),MSEnp(y_train,yhat_3_train,339),MSEnp(y_train,yhat_4_train,339),MSEnp(y_train,yhat_5_train,339),MSEnp(y_train,yhat_6_train,339),MSEnp(y_train,yhat_7_train,339),MSEnp(y_train,yhat_8_train,339),MSEnp(y_train,yhat_9_train,339),MSEnp(y_train,yhat_10_train,339),MSEnp(y_train,yhat_11_train,339),MSEnp(y_train,yhat_12_train,339)]\n",
    "MSE_separate_attributes"
   ]
  },
  {
   "cell_type": "code",
   "execution_count": 80,
   "metadata": {},
   "outputs": [
    {
     "name": "stdout",
     "output_type": "stream",
     "text": [
      "23.833934895983464 20.4600226224327\n"
     ]
    }
   ],
   "source": [
    "#Question 4d\n",
    "#Linear regression using ALL attributes\n",
    "#Adding a column of ones on the end of training data\n",
    "x_train_all = np.concatenate((x_train, naivextrain), axis = 1)\n",
    "W = np.linalg.inv((x_train_all.T@x_train_all))@(x_train_all.T@y_train)\n",
    "\n",
    "#Running prediction on training data using W vector computed in previous step\n",
    "yhat_all_train = x_train_all @ W \n",
    "#Calculating MSE on train data\n",
    "MSE_all_train = MSEnp(y_train, yhat_all_train, 339)\n",
    "\n",
    "\n",
    "\n",
    "#Adding a column of ones on end of test data\n",
    "x_test_all = np.concatenate((x_test, naivextest), axis=1)\n",
    "#Running prediction on training data using W vector computed in previous step\n",
    "yhat_all_test = x_test_all @ W \n",
    "#Calculating MSE on train data\n",
    "MSE_all_test = MSEnp(y_test, yhat_all_test, 167)\n",
    "\n",
    "print(MSE_all_train, MSE_all_test)"
   ]
  },
  {
   "cell_type": "code",
   "execution_count": null,
   "metadata": {},
   "outputs": [],
   "source": []
  }
 ],
 "metadata": {
  "kernelspec": {
   "display_name": "Python 3",
   "language": "python",
   "name": "python3"
  },
  "language_info": {
   "codemirror_mode": {
    "name": "ipython",
    "version": 3
   },
   "file_extension": ".py",
   "mimetype": "text/x-python",
   "name": "python",
   "nbconvert_exporter": "python",
   "pygments_lexer": "ipython3",
   "version": "3.8.3"
  }
 },
 "nbformat": 4,
 "nbformat_minor": 4
}
